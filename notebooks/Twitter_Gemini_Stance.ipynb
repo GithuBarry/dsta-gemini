from twitter_gemini.dataset import TwitterDataset, AnnotationLoader
from twitter_gemini.gemini_client import GeminiLabeler
from twitter_gemini.evaluator import evaluate_annotations%pip install -q -r /workspace/requirements.txt
import os
from dotenv import load_dotenv
load_dotenv()
assert os.environ.get('GEMINI_API_KEY'), 'Please set GEMINI_API_KEY in .env'# Twitter Stance Detection with Gemini

This notebook demonstrates:
- Loading the Twitter dataset (text + image mapping)
- Running Gemini to label stance/topics for one example
- Evaluating across the full dataset with label normalization
- Aggregating per-topic metrics and cost estimates
- Logs of all queries/responses are recorded in `logs/` and cache in `cache/`
