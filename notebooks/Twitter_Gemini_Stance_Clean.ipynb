from twitter_gemini.dataset import TwitterDataset, AnnotationLoader
from twitter_gemini.gemini_client import GeminiLabeler
from twitter_gemini.evaluator import evaluate_annotations%pip install -q -r /workspace/requirements.txt
import os
from dotenv import load_dotenv
load_dotenv()
assert os.environ.get('GEMINI_API_KEY'), 'Please set GEMINI_API_KEY in .env'# Twitter Stance Detection with Google GenAI (Gemini)

This notebook uses only the Google GenAI Python SDK (no CLI). It demonstrates:
- Loading tweet text and annotations
- Running Gemini for one example (with image if available)
- Evaluating across the dataset with label normalization
- Aggregating per-topic metrics and cost estimates
- Human-readable logs in `logs/` and cache in `cache/`